{
 "cells": [
  {
   "cell_type": "code",
   "execution_count": 1,
   "metadata": {
    "collapsed": true
   },
   "outputs": [],
   "source": [
    "import pandas as pd\n",
    "import random\n",
    "import numpy as np\n",
    "random.seed(15)"
   ]
  },
  {
   "cell_type": "code",
   "execution_count": 2,
   "metadata": {},
   "outputs": [
    {
     "name": "stdout",
     "output_type": "stream",
     "text": [
      "data_understanding_prep.ipynb snli_val.tsv\r\n",
      "mnli_val.tsv\r\n"
     ]
    }
   ],
   "source": [
    "!ls"
   ]
  },
  {
   "cell_type": "markdown",
   "metadata": {},
   "source": [
    "### MNLI"
   ]
  },
  {
   "cell_type": "code",
   "execution_count": 2,
   "metadata": {
    "collapsed": true
   },
   "outputs": [],
   "source": [
    "mnli_val = pd.read_csv('mnli_val.tsv', sep='\\t')"
   ]
  },
  {
   "cell_type": "code",
   "execution_count": 4,
   "metadata": {},
   "outputs": [
    {
     "data": {
      "text/html": [
       "<div>\n",
       "<style scoped>\n",
       "    .dataframe tbody tr th:only-of-type {\n",
       "        vertical-align: middle;\n",
       "    }\n",
       "\n",
       "    .dataframe tbody tr th {\n",
       "        vertical-align: top;\n",
       "    }\n",
       "\n",
       "    .dataframe thead th {\n",
       "        text-align: right;\n",
       "    }\n",
       "</style>\n",
       "<table border=\"1\" class=\"dataframe\">\n",
       "  <thead>\n",
       "    <tr style=\"text-align: right;\">\n",
       "      <th></th>\n",
       "      <th>sentence1</th>\n",
       "      <th>sentence2</th>\n",
       "      <th>label</th>\n",
       "      <th>genre</th>\n",
       "    </tr>\n",
       "  </thead>\n",
       "  <tbody>\n",
       "    <tr>\n",
       "      <th>0</th>\n",
       "      <td>'Not entirely , ' I snapped , harsher than int...</td>\n",
       "      <td>I spoke more harshly than I wanted to .</td>\n",
       "      <td>entailment</td>\n",
       "      <td>fiction</td>\n",
       "    </tr>\n",
       "    <tr>\n",
       "      <th>1</th>\n",
       "      <td>cook and then the next time it would be my tur...</td>\n",
       "      <td>I would cook and then the next turn would be h...</td>\n",
       "      <td>contradiction</td>\n",
       "      <td>telephone</td>\n",
       "    </tr>\n",
       "    <tr>\n",
       "      <th>2</th>\n",
       "      <td>The disorder hardly seemed to exist before the...</td>\n",
       "      <td>The disorder did n't seem to be as common when...</td>\n",
       "      <td>entailment</td>\n",
       "      <td>slate</td>\n",
       "    </tr>\n",
       "    <tr>\n",
       "      <th>3</th>\n",
       "      <td>The Report and Order , in large part , adopts ...</td>\n",
       "      <td>The Report and Order ignores recommendations f...</td>\n",
       "      <td>contradiction</td>\n",
       "      <td>government</td>\n",
       "    </tr>\n",
       "    <tr>\n",
       "      <th>4</th>\n",
       "      <td>IDPA 's OIG 's mission is to prevent , detect ...</td>\n",
       "      <td>IDPA 's OIG 's mission is clear and cares abou...</td>\n",
       "      <td>entailment</td>\n",
       "      <td>government</td>\n",
       "    </tr>\n",
       "  </tbody>\n",
       "</table>\n",
       "</div>"
      ],
      "text/plain": [
       "                                           sentence1  \\\n",
       "0  'Not entirely , ' I snapped , harsher than int...   \n",
       "1  cook and then the next time it would be my tur...   \n",
       "2  The disorder hardly seemed to exist before the...   \n",
       "3  The Report and Order , in large part , adopts ...   \n",
       "4  IDPA 's OIG 's mission is to prevent , detect ...   \n",
       "\n",
       "                                           sentence2          label  \\\n",
       "0            I spoke more harshly than I wanted to .     entailment   \n",
       "1  I would cook and then the next turn would be h...  contradiction   \n",
       "2  The disorder did n't seem to be as common when...     entailment   \n",
       "3  The Report and Order ignores recommendations f...  contradiction   \n",
       "4  IDPA 's OIG 's mission is clear and cares abou...     entailment   \n",
       "\n",
       "        genre  \n",
       "0     fiction  \n",
       "1   telephone  \n",
       "2       slate  \n",
       "3  government  \n",
       "4  government  "
      ]
     },
     "execution_count": 4,
     "metadata": {},
     "output_type": "execute_result"
    }
   ],
   "source": [
    "mnli_val.head()"
   ]
  },
  {
   "cell_type": "code",
   "execution_count": 6,
   "metadata": {},
   "outputs": [
    {
     "data": {
      "text/plain": [
       "['fiction', 'telephone', 'slate', 'government', 'travel']"
      ]
     },
     "execution_count": 6,
     "metadata": {},
     "output_type": "execute_result"
    }
   ],
   "source": [
    "mnli_val.genre.unique().tolist()"
   ]
  },
  {
   "cell_type": "code",
   "execution_count": 9,
   "metadata": {},
   "outputs": [
    {
     "data": {
      "text/html": [
       "<div>\n",
       "<style scoped>\n",
       "    .dataframe tbody tr th:only-of-type {\n",
       "        vertical-align: middle;\n",
       "    }\n",
       "\n",
       "    .dataframe tbody tr th {\n",
       "        vertical-align: top;\n",
       "    }\n",
       "\n",
       "    .dataframe thead th {\n",
       "        text-align: right;\n",
       "    }\n",
       "</style>\n",
       "<table border=\"1\" class=\"dataframe\">\n",
       "  <thead>\n",
       "    <tr style=\"text-align: right;\">\n",
       "      <th></th>\n",
       "      <th>sentence1</th>\n",
       "      <th>sentence2</th>\n",
       "      <th>label</th>\n",
       "    </tr>\n",
       "  </thead>\n",
       "  <tbody>\n",
       "    <tr>\n",
       "      <th>0</th>\n",
       "      <td>'Not entirely , ' I snapped , harsher than int...</td>\n",
       "      <td>I spoke more harshly than I wanted to .</td>\n",
       "      <td>entailment</td>\n",
       "    </tr>\n",
       "    <tr>\n",
       "      <th>11</th>\n",
       "      <td>They wanted you , so they got you . '' Dave co...</td>\n",
       "      <td>They never wanted you , but they ended up gett...</td>\n",
       "      <td>contradiction</td>\n",
       "    </tr>\n",
       "    <tr>\n",
       "      <th>12</th>\n",
       "      <td>She did n't listen .</td>\n",
       "      <td>She did not listen to the noise .</td>\n",
       "      <td>neutral</td>\n",
       "    </tr>\n",
       "    <tr>\n",
       "      <th>14</th>\n",
       "      <td>Where are you going ?</td>\n",
       "      <td>Where have you been ?</td>\n",
       "      <td>contradiction</td>\n",
       "    </tr>\n",
       "    <tr>\n",
       "      <th>17</th>\n",
       "      <td>He and his wife had lived at Styles Court in e...</td>\n",
       "      <td>She had a beautiful garden at her disposal at ...</td>\n",
       "      <td>neutral</td>\n",
       "    </tr>\n",
       "    <tr>\n",
       "      <th>18</th>\n",
       "      <td>And if they did come , as remote as that is , ...</td>\n",
       "      <td>The men were warriors .</td>\n",
       "      <td>neutral</td>\n",
       "    </tr>\n",
       "    <tr>\n",
       "      <th>25</th>\n",
       "      <td>The sunlight , piercing through the branches ,...</td>\n",
       "      <td>When the sunlight pierced through the branches...</td>\n",
       "      <td>contradiction</td>\n",
       "    </tr>\n",
       "    <tr>\n",
       "      <th>26</th>\n",
       "      <td>And the door into Mr. Inglethorp 's room ?</td>\n",
       "      <td>Do n't tell me anything about the door to Mr. ...</td>\n",
       "      <td>contradiction</td>\n",
       "    </tr>\n",
       "    <tr>\n",
       "      <th>40</th>\n",
       "      <td>Four infinite minutes went by .</td>\n",
       "      <td>Four minutes that felt like infinity finally p...</td>\n",
       "      <td>entailment</td>\n",
       "    </tr>\n",
       "    <tr>\n",
       "      <th>53</th>\n",
       "      <td>17 `` Surely you are not thinking of refusing ?</td>\n",
       "      <td>You ca n't be thinking of turning it down ?</td>\n",
       "      <td>entailment</td>\n",
       "    </tr>\n",
       "    <tr>\n",
       "      <th>61</th>\n",
       "      <td>'Go now . '</td>\n",
       "      <td>Now go .</td>\n",
       "      <td>entailment</td>\n",
       "    </tr>\n",
       "    <tr>\n",
       "      <th>64</th>\n",
       "      <td>We can leave them and let them die , said Thorn .</td>\n",
       "      <td>Thorn told us we could leave them to die .</td>\n",
       "      <td>entailment</td>\n",
       "    </tr>\n",
       "    <tr>\n",
       "      <th>65</th>\n",
       "      <td>Jon shifted and the sword tip slid past .</td>\n",
       "      <td>The man tried again to stab him .</td>\n",
       "      <td>neutral</td>\n",
       "    </tr>\n",
       "    <tr>\n",
       "      <th>69</th>\n",
       "      <td>It was deserved .</td>\n",
       "      <td>it was not deserved at all</td>\n",
       "      <td>contradiction</td>\n",
       "    </tr>\n",
       "    <tr>\n",
       "      <th>77</th>\n",
       "      <td>If she did n't like her restaurant so much , t...</td>\n",
       "      <td>She really loved to eat at her Greek restaurant .</td>\n",
       "      <td>neutral</td>\n",
       "    </tr>\n",
       "    <tr>\n",
       "      <th>85</th>\n",
       "      <td>Then I considered .</td>\n",
       "      <td>Then , I thought if I should accepted to go wi...</td>\n",
       "      <td>neutral</td>\n",
       "    </tr>\n",
       "    <tr>\n",
       "      <th>86</th>\n",
       "      <td>I put it to you that you did do so ?</td>\n",
       "      <td>I understand that you did not do so .</td>\n",
       "      <td>contradiction</td>\n",
       "    </tr>\n",
       "    <tr>\n",
       "      <th>87</th>\n",
       "      <td>This is my old friend , Monsieur Poirot , whom...</td>\n",
       "      <td>Monsieur Poirot is someone I used to work with...</td>\n",
       "      <td>neutral</td>\n",
       "    </tr>\n",
       "    <tr>\n",
       "      <th>94</th>\n",
       "      <td>It is really a matter of waiting . ''</td>\n",
       "      <td>It is a matter of not having nay patients .</td>\n",
       "      <td>contradiction</td>\n",
       "    </tr>\n",
       "    <tr>\n",
       "      <th>105</th>\n",
       "      <td>It vibrated under his hand .</td>\n",
       "      <td>It hummed quietly in his hand .</td>\n",
       "      <td>entailment</td>\n",
       "    </tr>\n",
       "    <tr>\n",
       "      <th>110</th>\n",
       "      <td>I watched her hips shift in and out of the sid...</td>\n",
       "      <td>The wrap fell down a bit .</td>\n",
       "      <td>neutral</td>\n",
       "    </tr>\n",
       "    <tr>\n",
       "      <th>113</th>\n",
       "      <td>We know they will have to come from the south ...</td>\n",
       "      <td>The people will come from the south with lots ...</td>\n",
       "      <td>neutral</td>\n",
       "    </tr>\n",
       "    <tr>\n",
       "      <th>116</th>\n",
       "      <td>Perhaps a further password would be required ,...</td>\n",
       "      <td>Having both a password and proof of identity g...</td>\n",
       "      <td>neutral</td>\n",
       "    </tr>\n",
       "    <tr>\n",
       "      <th>117</th>\n",
       "      <td>No one was there , no bones at all .</td>\n",
       "      <td>There were many bones in a pile .</td>\n",
       "      <td>contradiction</td>\n",
       "    </tr>\n",
       "    <tr>\n",
       "      <th>122</th>\n",
       "      <td>He grimaced at his own doubts .</td>\n",
       "      <td>He grimaced at his doubts .</td>\n",
       "      <td>entailment</td>\n",
       "    </tr>\n",
       "    <tr>\n",
       "      <th>124</th>\n",
       "      <td>He slowed .</td>\n",
       "      <td>He sped up .</td>\n",
       "      <td>contradiction</td>\n",
       "    </tr>\n",
       "    <tr>\n",
       "      <th>129</th>\n",
       "      <td>It was going to be a hot day .</td>\n",
       "      <td>It was a very cold day .</td>\n",
       "      <td>contradiction</td>\n",
       "    </tr>\n",
       "    <tr>\n",
       "      <th>134</th>\n",
       "      <td>I awoke looking up at stone lit by fire .</td>\n",
       "      <td>The fire had grown to a giant size .</td>\n",
       "      <td>neutral</td>\n",
       "    </tr>\n",
       "    <tr>\n",
       "      <th>156</th>\n",
       "      <td>He had to try something .</td>\n",
       "      <td>The man had to try and do something .</td>\n",
       "      <td>entailment</td>\n",
       "    </tr>\n",
       "    <tr>\n",
       "      <th>160</th>\n",
       "      <td>Then as he caught the other 's sidelong glance...</td>\n",
       "      <td>The chauffeur will not help him to do anything .</td>\n",
       "      <td>entailment</td>\n",
       "    </tr>\n",
       "    <tr>\n",
       "      <th>...</th>\n",
       "      <td>...</td>\n",
       "      <td>...</td>\n",
       "      <td>...</td>\n",
       "    </tr>\n",
       "    <tr>\n",
       "      <th>4852</th>\n",
       "      <td>Endorphins were flowing .</td>\n",
       "      <td>I was very scared and my endorphins were flowi...</td>\n",
       "      <td>neutral</td>\n",
       "    </tr>\n",
       "    <tr>\n",
       "      <th>4853</th>\n",
       "      <td>'I do n't suppose you could forget I ever said...</td>\n",
       "      <td>It 's not likely you 'll forget that , right ?</td>\n",
       "      <td>entailment</td>\n",
       "    </tr>\n",
       "    <tr>\n",
       "      <th>4856</th>\n",
       "      <td>'The autopilot 's damaged- will the train stil...</td>\n",
       "      <td>There was no damage whatsoever .</td>\n",
       "      <td>contradiction</td>\n",
       "    </tr>\n",
       "    <tr>\n",
       "      <th>4861</th>\n",
       "      <td>No . I guess I 'm going too .</td>\n",
       "      <td>I 'll come along .</td>\n",
       "      <td>entailment</td>\n",
       "    </tr>\n",
       "    <tr>\n",
       "      <th>4863</th>\n",
       "      <td>Ca'daan heard the Kal grunt and felt the horse...</td>\n",
       "      <td>The Kal heard Ca'daan grunt .</td>\n",
       "      <td>contradiction</td>\n",
       "    </tr>\n",
       "    <tr>\n",
       "      <th>4867</th>\n",
       "      <td>There should be someone here who knew more of ...</td>\n",
       "      <td>He knew he was the only person with any idea o...</td>\n",
       "      <td>contradiction</td>\n",
       "    </tr>\n",
       "    <tr>\n",
       "      <th>4868</th>\n",
       "      <td>She would be almost certainly sent to you unde...</td>\n",
       "      <td>The man told the other man that she would be s...</td>\n",
       "      <td>neutral</td>\n",
       "    </tr>\n",
       "    <tr>\n",
       "      <th>4870</th>\n",
       "      <td>Have her show it , '' said Thorn .</td>\n",
       "      <td>Thorn said she should show her new sword .</td>\n",
       "      <td>neutral</td>\n",
       "    </tr>\n",
       "    <tr>\n",
       "      <th>4872</th>\n",
       "      <td>He watched the river flow .</td>\n",
       "      <td>The river levels were rising .</td>\n",
       "      <td>neutral</td>\n",
       "    </tr>\n",
       "    <tr>\n",
       "      <th>4876</th>\n",
       "      <td>I take it Americans have a higher opinion of m...</td>\n",
       "      <td>Morality is of high value to everyone no matte...</td>\n",
       "      <td>contradiction</td>\n",
       "    </tr>\n",
       "    <tr>\n",
       "      <th>4881</th>\n",
       "      <td>I went on , 'I 'm going to warn you , whether ...</td>\n",
       "      <td>You are mad that the boy does n't like you .</td>\n",
       "      <td>neutral</td>\n",
       "    </tr>\n",
       "    <tr>\n",
       "      <th>4890</th>\n",
       "      <td>If she was n't , how would they have known Jan...</td>\n",
       "      <td>If she was n't , how were they sure Jane Finn ...</td>\n",
       "      <td>entailment</td>\n",
       "    </tr>\n",
       "    <tr>\n",
       "      <th>4910</th>\n",
       "      <td>He seemed too self-assured .</td>\n",
       "      <td>He is very cocky .</td>\n",
       "      <td>entailment</td>\n",
       "    </tr>\n",
       "    <tr>\n",
       "      <th>4916</th>\n",
       "      <td>She leaned back in her chair .</td>\n",
       "      <td>She stood next to a chair .</td>\n",
       "      <td>contradiction</td>\n",
       "    </tr>\n",
       "    <tr>\n",
       "      <th>4917</th>\n",
       "      <td>Finally the woman opened her eyes feebly .</td>\n",
       "      <td>She kept her eyes firmly closed .</td>\n",
       "      <td>contradiction</td>\n",
       "    </tr>\n",
       "    <tr>\n",
       "      <th>4923</th>\n",
       "      <td>The Wither 's eldest boy , one of the four of ...</td>\n",
       "      <td>The boy carved the sword by hand .</td>\n",
       "      <td>neutral</td>\n",
       "    </tr>\n",
       "    <tr>\n",
       "      <th>4924</th>\n",
       "      <td>I put it to you that you did do so ?</td>\n",
       "      <td>I am assuming that you did do so ?</td>\n",
       "      <td>entailment</td>\n",
       "    </tr>\n",
       "    <tr>\n",
       "      <th>4926</th>\n",
       "      <td>You can count on me , if necessary , for one m...</td>\n",
       "      <td>I 'm good for two million dollars .</td>\n",
       "      <td>contradiction</td>\n",
       "    </tr>\n",
       "    <tr>\n",
       "      <th>4928</th>\n",
       "      <td>This is Susan .</td>\n",
       "      <td>This is Bob .</td>\n",
       "      <td>contradiction</td>\n",
       "    </tr>\n",
       "    <tr>\n",
       "      <th>4940</th>\n",
       "      <td>No , I do n't know .</td>\n",
       "      <td>Yes , I know .</td>\n",
       "      <td>contradiction</td>\n",
       "    </tr>\n",
       "    <tr>\n",
       "      <th>4950</th>\n",
       "      <td>Oh ! I exclaimed , much relieved .</td>\n",
       "      <td>He was going to get the operation to remove hi...</td>\n",
       "      <td>neutral</td>\n",
       "    </tr>\n",
       "    <tr>\n",
       "      <th>4951</th>\n",
       "      <td>Five minutes later she smiled contentedly at h...</td>\n",
       "      <td>She was not content with how she looked .</td>\n",
       "      <td>contradiction</td>\n",
       "    </tr>\n",
       "    <tr>\n",
       "      <th>4952</th>\n",
       "      <td>We were playing all sorts of sports , and you ...</td>\n",
       "      <td>We have played football , basketball , basebal...</td>\n",
       "      <td>entailment</td>\n",
       "    </tr>\n",
       "    <tr>\n",
       "      <th>4955</th>\n",
       "      <td>Were you in company with anyone ?</td>\n",
       "      <td>Were you awake ?</td>\n",
       "      <td>contradiction</td>\n",
       "    </tr>\n",
       "    <tr>\n",
       "      <th>4966</th>\n",
       "      <td>See the idea ? '' 35 `` Then you think '' Tupp...</td>\n",
       "      <td>Tuppence just could n't grasp the concept .</td>\n",
       "      <td>contradiction</td>\n",
       "    </tr>\n",
       "    <tr>\n",
       "      <th>4972</th>\n",
       "      <td>The red moon made her skin glow .</td>\n",
       "      <td>Her skin was falling off because of the red mo...</td>\n",
       "      <td>contradiction</td>\n",
       "    </tr>\n",
       "    <tr>\n",
       "      <th>4975</th>\n",
       "      <td>Peel Edgerton .</td>\n",
       "      <td>Take off Edgerton .</td>\n",
       "      <td>entailment</td>\n",
       "    </tr>\n",
       "    <tr>\n",
       "      <th>4989</th>\n",
       "      <td>'I do n't know what happened , exactly . ' I s...</td>\n",
       "      <td>I knew what had happened .</td>\n",
       "      <td>contradiction</td>\n",
       "    </tr>\n",
       "    <tr>\n",
       "      <th>4995</th>\n",
       "      <td>That 's why we tried to kill you .</td>\n",
       "      <td>That 's one of the reasons we wanted to kill y...</td>\n",
       "      <td>neutral</td>\n",
       "    </tr>\n",
       "    <tr>\n",
       "      <th>4999</th>\n",
       "      <td>He pulled his cloak tighter and wished for a m...</td>\n",
       "      <td>The man wrapped himself tightly in his cloak a...</td>\n",
       "      <td>entailment</td>\n",
       "    </tr>\n",
       "  </tbody>\n",
       "</table>\n",
       "<p>995 rows × 3 columns</p>\n",
       "</div>"
      ],
      "text/plain": [
       "                                              sentence1  \\\n",
       "0     'Not entirely , ' I snapped , harsher than int...   \n",
       "11    They wanted you , so they got you . '' Dave co...   \n",
       "12                                 She did n't listen .   \n",
       "14                                Where are you going ?   \n",
       "17    He and his wife had lived at Styles Court in e...   \n",
       "18    And if they did come , as remote as that is , ...   \n",
       "25    The sunlight , piercing through the branches ,...   \n",
       "26           And the door into Mr. Inglethorp 's room ?   \n",
       "40                      Four infinite minutes went by .   \n",
       "53      17 `` Surely you are not thinking of refusing ?   \n",
       "61                                          'Go now . '   \n",
       "64    We can leave them and let them die , said Thorn .   \n",
       "65            Jon shifted and the sword tip slid past .   \n",
       "69                                    It was deserved .   \n",
       "77    If she did n't like her restaurant so much , t...   \n",
       "85                                  Then I considered .   \n",
       "86                 I put it to you that you did do so ?   \n",
       "87    This is my old friend , Monsieur Poirot , whom...   \n",
       "94                It is really a matter of waiting . ''   \n",
       "105                        It vibrated under his hand .   \n",
       "110   I watched her hips shift in and out of the sid...   \n",
       "113   We know they will have to come from the south ...   \n",
       "116   Perhaps a further password would be required ,...   \n",
       "117                No one was there , no bones at all .   \n",
       "122                     He grimaced at his own doubts .   \n",
       "124                                         He slowed .   \n",
       "129                      It was going to be a hot day .   \n",
       "134           I awoke looking up at stone lit by fire .   \n",
       "156                           He had to try something .   \n",
       "160   Then as he caught the other 's sidelong glance...   \n",
       "...                                                 ...   \n",
       "4852                          Endorphins were flowing .   \n",
       "4853  'I do n't suppose you could forget I ever said...   \n",
       "4856  'The autopilot 's damaged- will the train stil...   \n",
       "4861                      No . I guess I 'm going too .   \n",
       "4863  Ca'daan heard the Kal grunt and felt the horse...   \n",
       "4867  There should be someone here who knew more of ...   \n",
       "4868  She would be almost certainly sent to you unde...   \n",
       "4870                 Have her show it , '' said Thorn .   \n",
       "4872                        He watched the river flow .   \n",
       "4876  I take it Americans have a higher opinion of m...   \n",
       "4881  I went on , 'I 'm going to warn you , whether ...   \n",
       "4890  If she was n't , how would they have known Jan...   \n",
       "4910                       He seemed too self-assured .   \n",
       "4916                     She leaned back in her chair .   \n",
       "4917         Finally the woman opened her eyes feebly .   \n",
       "4923  The Wither 's eldest boy , one of the four of ...   \n",
       "4924               I put it to you that you did do so ?   \n",
       "4926  You can count on me , if necessary , for one m...   \n",
       "4928                                    This is Susan .   \n",
       "4940                               No , I do n't know .   \n",
       "4950                 Oh ! I exclaimed , much relieved .   \n",
       "4951  Five minutes later she smiled contentedly at h...   \n",
       "4952  We were playing all sorts of sports , and you ...   \n",
       "4955                  Were you in company with anyone ?   \n",
       "4966  See the idea ? '' 35 `` Then you think '' Tupp...   \n",
       "4972                  The red moon made her skin glow .   \n",
       "4975                                    Peel Edgerton .   \n",
       "4989  'I do n't know what happened , exactly . ' I s...   \n",
       "4995                 That 's why we tried to kill you .   \n",
       "4999  He pulled his cloak tighter and wished for a m...   \n",
       "\n",
       "                                              sentence2          label  \n",
       "0               I spoke more harshly than I wanted to .     entailment  \n",
       "11    They never wanted you , but they ended up gett...  contradiction  \n",
       "12                    She did not listen to the noise .        neutral  \n",
       "14                                Where have you been ?  contradiction  \n",
       "17    She had a beautiful garden at her disposal at ...        neutral  \n",
       "18                              The men were warriors .        neutral  \n",
       "25    When the sunlight pierced through the branches...  contradiction  \n",
       "26    Do n't tell me anything about the door to Mr. ...  contradiction  \n",
       "40    Four minutes that felt like infinity finally p...     entailment  \n",
       "53          You ca n't be thinking of turning it down ?     entailment  \n",
       "61                                             Now go .     entailment  \n",
       "64           Thorn told us we could leave them to die .     entailment  \n",
       "65                    The man tried again to stab him .        neutral  \n",
       "69                           it was not deserved at all  contradiction  \n",
       "77    She really loved to eat at her Greek restaurant .        neutral  \n",
       "85    Then , I thought if I should accepted to go wi...        neutral  \n",
       "86                I understand that you did not do so .  contradiction  \n",
       "87    Monsieur Poirot is someone I used to work with...        neutral  \n",
       "94          It is a matter of not having nay patients .  contradiction  \n",
       "105                     It hummed quietly in his hand .     entailment  \n",
       "110                          The wrap fell down a bit .        neutral  \n",
       "113   The people will come from the south with lots ...        neutral  \n",
       "116   Having both a password and proof of identity g...        neutral  \n",
       "117                   There were many bones in a pile .  contradiction  \n",
       "122                         He grimaced at his doubts .     entailment  \n",
       "124                                        He sped up .  contradiction  \n",
       "129                            It was a very cold day .  contradiction  \n",
       "134                The fire had grown to a giant size .        neutral  \n",
       "156               The man had to try and do something .     entailment  \n",
       "160    The chauffeur will not help him to do anything .     entailment  \n",
       "...                                                 ...            ...  \n",
       "4852  I was very scared and my endorphins were flowi...        neutral  \n",
       "4853     It 's not likely you 'll forget that , right ?     entailment  \n",
       "4856                   There was no damage whatsoever .  contradiction  \n",
       "4861                                 I 'll come along .     entailment  \n",
       "4863                      The Kal heard Ca'daan grunt .  contradiction  \n",
       "4867  He knew he was the only person with any idea o...  contradiction  \n",
       "4868  The man told the other man that she would be s...        neutral  \n",
       "4870         Thorn said she should show her new sword .        neutral  \n",
       "4872                     The river levels were rising .        neutral  \n",
       "4876  Morality is of high value to everyone no matte...  contradiction  \n",
       "4881       You are mad that the boy does n't like you .        neutral  \n",
       "4890  If she was n't , how were they sure Jane Finn ...     entailment  \n",
       "4910                                 He is very cocky .     entailment  \n",
       "4916                        She stood next to a chair .  contradiction  \n",
       "4917                  She kept her eyes firmly closed .  contradiction  \n",
       "4923                 The boy carved the sword by hand .        neutral  \n",
       "4924                 I am assuming that you did do so ?     entailment  \n",
       "4926                I 'm good for two million dollars .  contradiction  \n",
       "4928                                      This is Bob .  contradiction  \n",
       "4940                                     Yes , I know .  contradiction  \n",
       "4950  He was going to get the operation to remove hi...        neutral  \n",
       "4951          She was not content with how she looked .  contradiction  \n",
       "4952  We have played football , basketball , basebal...     entailment  \n",
       "4955                                   Were you awake ?  contradiction  \n",
       "4966        Tuppence just could n't grasp the concept .  contradiction  \n",
       "4972  Her skin was falling off because of the red mo...  contradiction  \n",
       "4975                                Take off Edgerton .     entailment  \n",
       "4989                         I knew what had happened .  contradiction  \n",
       "4995  That 's one of the reasons we wanted to kill y...        neutral  \n",
       "4999  The man wrapped himself tightly in his cloak a...     entailment  \n",
       "\n",
       "[995 rows x 3 columns]"
      ]
     },
     "execution_count": 9,
     "metadata": {},
     "output_type": "execute_result"
    }
   ],
   "source": [
    "mnli_val[mnli_val.genre=='fiction'][['sentence1', 'sentence2', 'label']]"
   ]
  },
  {
   "cell_type": "code",
   "execution_count": 18,
   "metadata": {},
   "outputs": [
    {
     "data": {
      "text/plain": [
       "(5000, 4)"
      ]
     },
     "execution_count": 18,
     "metadata": {},
     "output_type": "execute_result"
    }
   ],
   "source": [
    "mnli_val.shape"
   ]
  },
  {
   "cell_type": "code",
   "execution_count": 37,
   "metadata": {
    "collapsed": true
   },
   "outputs": [],
   "source": [
    "#Select random subset of validation set\n",
    "val_subset = mnli_val.sample(frac=0.1, replace=False)"
   ]
  },
  {
   "cell_type": "code",
   "execution_count": 41,
   "metadata": {
    "collapsed": true
   },
   "outputs": [],
   "source": [
    "val_subset.to_csv('mnli_val_subset.csv')"
   ]
  },
  {
   "cell_type": "code",
   "execution_count": 7,
   "metadata": {},
   "outputs": [
    {
     "data": {
      "text/plain": [
       "government    1016\n",
       "telephone     1005\n",
       "slate         1002\n",
       "fiction        995\n",
       "travel         982\n",
       "Name: genre, dtype: int64"
      ]
     },
     "execution_count": 7,
     "metadata": {},
     "output_type": "execute_result"
    }
   ],
   "source": [
    "mnli.genre.value_counts()"
   ]
  },
  {
   "cell_type": "code",
   "execution_count": 8,
   "metadata": {},
   "outputs": [
    {
     "data": {
      "text/plain": [
       "entailment       1784\n",
       "contradiction    1664\n",
       "neutral          1552\n",
       "Name: label, dtype: int64"
      ]
     },
     "execution_count": 8,
     "metadata": {},
     "output_type": "execute_result"
    }
   ],
   "source": [
    "mnli.label.value_counts()"
   ]
  },
  {
   "cell_type": "code",
   "execution_count": 14,
   "metadata": {
    "collapsed": true
   },
   "outputs": [],
   "source": [
    "mnli_train = pd.read_csv('mnli_train.tsv', sep='\\t')"
   ]
  },
  {
   "cell_type": "code",
   "execution_count": 15,
   "metadata": {},
   "outputs": [
    {
     "data": {
      "text/html": [
       "<div>\n",
       "<style scoped>\n",
       "    .dataframe tbody tr th:only-of-type {\n",
       "        vertical-align: middle;\n",
       "    }\n",
       "\n",
       "    .dataframe tbody tr th {\n",
       "        vertical-align: top;\n",
       "    }\n",
       "\n",
       "    .dataframe thead th {\n",
       "        text-align: right;\n",
       "    }\n",
       "</style>\n",
       "<table border=\"1\" class=\"dataframe\">\n",
       "  <thead>\n",
       "    <tr style=\"text-align: right;\">\n",
       "      <th></th>\n",
       "      <th>sentence1</th>\n",
       "      <th>sentence2</th>\n",
       "      <th>label</th>\n",
       "      <th>genre</th>\n",
       "    </tr>\n",
       "  </thead>\n",
       "  <tbody>\n",
       "    <tr>\n",
       "      <th>0</th>\n",
       "      <td>and now that was in fifty one that 's forty ye...</td>\n",
       "      <td>It was already a problem forty years ago but n...</td>\n",
       "      <td>neutral</td>\n",
       "      <td>telephone</td>\n",
       "    </tr>\n",
       "    <tr>\n",
       "      <th>1</th>\n",
       "      <td>Jon could smell baked bread on the air and his...</td>\n",
       "      <td>Jon smelt food in the air and was hungry .</td>\n",
       "      <td>neutral</td>\n",
       "      <td>fiction</td>\n",
       "    </tr>\n",
       "    <tr>\n",
       "      <th>2</th>\n",
       "      <td>it will be like Italian basketball with the uh...</td>\n",
       "      <td>This type of Italian basketball is nothing lik...</td>\n",
       "      <td>contradiction</td>\n",
       "      <td>telephone</td>\n",
       "    </tr>\n",
       "    <tr>\n",
       "      <th>3</th>\n",
       "      <td>well i think that 's about uh that 's about co...</td>\n",
       "      <td>Sorry but we are not done just yet .</td>\n",
       "      <td>contradiction</td>\n",
       "      <td>telephone</td>\n",
       "    </tr>\n",
       "    <tr>\n",
       "      <th>4</th>\n",
       "      <td>Good job tenure , that is -- because in yet an...</td>\n",
       "      <td>Dr. Quinn , Medicine Woman , was worked on by ...</td>\n",
       "      <td>entailment</td>\n",
       "      <td>slate</td>\n",
       "    </tr>\n",
       "  </tbody>\n",
       "</table>\n",
       "</div>"
      ],
      "text/plain": [
       "                                           sentence1  \\\n",
       "0  and now that was in fifty one that 's forty ye...   \n",
       "1  Jon could smell baked bread on the air and his...   \n",
       "2  it will be like Italian basketball with the uh...   \n",
       "3  well i think that 's about uh that 's about co...   \n",
       "4  Good job tenure , that is -- because in yet an...   \n",
       "\n",
       "                                           sentence2          label      genre  \n",
       "0  It was already a problem forty years ago but n...        neutral  telephone  \n",
       "1         Jon smelt food in the air and was hungry .        neutral    fiction  \n",
       "2  This type of Italian basketball is nothing lik...  contradiction  telephone  \n",
       "3               Sorry but we are not done just yet .  contradiction  telephone  \n",
       "4  Dr. Quinn , Medicine Woman , was worked on by ...     entailment      slate  "
      ]
     },
     "execution_count": 15,
     "metadata": {},
     "output_type": "execute_result"
    }
   ],
   "source": [
    "mnli_train.head()"
   ]
  },
  {
   "cell_type": "code",
   "execution_count": 16,
   "metadata": {},
   "outputs": [
    {
     "data": {
      "text/plain": [
       "(20000, 4)"
      ]
     },
     "execution_count": 16,
     "metadata": {},
     "output_type": "execute_result"
    }
   ],
   "source": [
    "mnli_train.shape"
   ]
  },
  {
   "cell_type": "code",
   "execution_count": 39,
   "metadata": {
    "collapsed": true
   },
   "outputs": [],
   "source": [
    "#Select random subset of validation set\n",
    "train_subset = mnli_train.sample(frac=0.1, replace=False)"
   ]
  },
  {
   "cell_type": "code",
   "execution_count": 40,
   "metadata": {},
   "outputs": [
    {
     "data": {
      "text/plain": [
       "(2000, 4)"
      ]
     },
     "execution_count": 40,
     "metadata": {},
     "output_type": "execute_result"
    }
   ],
   "source": [
    "train_subset.shape"
   ]
  },
  {
   "cell_type": "code",
   "execution_count": 42,
   "metadata": {
    "collapsed": true
   },
   "outputs": [],
   "source": [
    "train_subset.to_csv('mnli_train_subset.csv')"
   ]
  },
  {
   "cell_type": "markdown",
   "metadata": {},
   "source": [
    "### SNLI"
   ]
  },
  {
   "cell_type": "code",
   "execution_count": 7,
   "metadata": {},
   "outputs": [
    {
     "name": "stdout",
     "output_type": "stream",
     "text": [
      "crawl-300d-2M.vec             mnli_val_subset.csv\r\n",
      "data_understanding_prep.ipynb snli_train1.tsv\r\n",
      "mnli_train.tsv                snli_val.tsv\r\n",
      "mnli_train_subset.csv         wiki-news-300d-1M.vec\r\n",
      "mnli_val.tsv\r\n"
     ]
    }
   ],
   "source": [
    "!ls"
   ]
  },
  {
   "cell_type": "code",
   "execution_count": 10,
   "metadata": {
    "collapsed": true
   },
   "outputs": [],
   "source": [
    "snli = pd.read_csv('snli_train.tsv', sep='\\t')"
   ]
  },
  {
   "cell_type": "code",
   "execution_count": 4,
   "metadata": {},
   "outputs": [
    {
     "data": {
      "text/plain": [
       "(1000, 3)"
      ]
     },
     "execution_count": 4,
     "metadata": {},
     "output_type": "execute_result"
    }
   ],
   "source": [
    "snli.shape"
   ]
  },
  {
   "cell_type": "code",
   "execution_count": 5,
   "metadata": {},
   "outputs": [
    {
     "data": {
      "text/html": [
       "<div>\n",
       "<style scoped>\n",
       "    .dataframe tbody tr th:only-of-type {\n",
       "        vertical-align: middle;\n",
       "    }\n",
       "\n",
       "    .dataframe tbody tr th {\n",
       "        vertical-align: top;\n",
       "    }\n",
       "\n",
       "    .dataframe thead th {\n",
       "        text-align: right;\n",
       "    }\n",
       "</style>\n",
       "<table border=\"1\" class=\"dataframe\">\n",
       "  <thead>\n",
       "    <tr style=\"text-align: right;\">\n",
       "      <th></th>\n",
       "      <th>sentence1</th>\n",
       "      <th>sentence2</th>\n",
       "      <th>label</th>\n",
       "    </tr>\n",
       "  </thead>\n",
       "  <tbody>\n",
       "    <tr>\n",
       "      <th>0</th>\n",
       "      <td>Three women on a stage , one wearing red shoes...</td>\n",
       "      <td>There are two women standing on the stage</td>\n",
       "      <td>contradiction</td>\n",
       "    </tr>\n",
       "    <tr>\n",
       "      <th>1</th>\n",
       "      <td>Four people sit on a subway two read books , o...</td>\n",
       "      <td>Multiple people are on a subway together , wit...</td>\n",
       "      <td>entailment</td>\n",
       "    </tr>\n",
       "    <tr>\n",
       "      <th>2</th>\n",
       "      <td>bicycles stationed while a group of people soc...</td>\n",
       "      <td>People get together near a stand of bicycles .</td>\n",
       "      <td>entailment</td>\n",
       "    </tr>\n",
       "    <tr>\n",
       "      <th>3</th>\n",
       "      <td>Man in overalls with two horses .</td>\n",
       "      <td>a man in overalls with two horses</td>\n",
       "      <td>entailment</td>\n",
       "    </tr>\n",
       "    <tr>\n",
       "      <th>4</th>\n",
       "      <td>Man observes a wavelength given off by an elec...</td>\n",
       "      <td>The man is examining what wavelength is given ...</td>\n",
       "      <td>entailment</td>\n",
       "    </tr>\n",
       "  </tbody>\n",
       "</table>\n",
       "</div>"
      ],
      "text/plain": [
       "                                           sentence1  \\\n",
       "0  Three women on a stage , one wearing red shoes...   \n",
       "1  Four people sit on a subway two read books , o...   \n",
       "2  bicycles stationed while a group of people soc...   \n",
       "3                  Man in overalls with two horses .   \n",
       "4  Man observes a wavelength given off by an elec...   \n",
       "\n",
       "                                           sentence2          label  \n",
       "0          There are two women standing on the stage  contradiction  \n",
       "1  Multiple people are on a subway together , wit...     entailment  \n",
       "2     People get together near a stand of bicycles .     entailment  \n",
       "3                  a man in overalls with two horses     entailment  \n",
       "4  The man is examining what wavelength is given ...     entailment  "
      ]
     },
     "execution_count": 5,
     "metadata": {},
     "output_type": "execute_result"
    }
   ],
   "source": [
    "snli.head()"
   ]
  },
  {
   "cell_type": "code",
   "execution_count": 6,
   "metadata": {},
   "outputs": [
    {
     "data": {
      "text/plain": [
       "neutral          338\n",
       "entailment       331\n",
       "contradiction    331\n",
       "Name: label, dtype: int64"
      ]
     },
     "execution_count": 6,
     "metadata": {},
     "output_type": "execute_result"
    }
   ],
   "source": [
    "snli.label.value_counts()"
   ]
  },
  {
   "cell_type": "code",
   "execution_count": null,
   "metadata": {
    "collapsed": true
   },
   "outputs": [],
   "source": []
  }
 ],
 "metadata": {
  "kernelspec": {
   "display_name": "Python 3",
   "language": "python",
   "name": "python3"
  },
  "language_info": {
   "codemirror_mode": {
    "name": "ipython",
    "version": 3
   },
   "file_extension": ".py",
   "mimetype": "text/x-python",
   "name": "python",
   "nbconvert_exporter": "python",
   "pygments_lexer": "ipython3",
   "version": "3.6.2"
  }
 },
 "nbformat": 4,
 "nbformat_minor": 2
}
